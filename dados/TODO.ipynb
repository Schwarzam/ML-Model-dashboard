{
 "cells": [
  {
   "cell_type": "code",
   "execution_count": 2,
   "id": "49589702",
   "metadata": {},
   "outputs": [],
   "source": [
    "fpr = [0.        , 0.        , 0.        , 0.01587302, 0.01587302,\n",
    "       0.03174603, 0.03174603, 0.04761905, 0.04761905, 0.07936508,\n",
    "       0.07936508, 0.11111111, 0.11111111, 0.12698413, 0.12698413,\n",
    "       0.17460317, 0.17460317, 0.19047619, 0.19047619, 0.20634921,\n",
    "       0.20634921, 0.22222222, 0.22222222, 0.25396825, 0.25396825,\n",
    "       0.26984127, 0.26984127, 0.33333333, 0.33333333, 0.34920635,\n",
    "       0.34920635, 0.38095238, 0.38095238, 0.50793651, 0.50793651,\n",
    "       0.53968254, 0.53968254, 0.57142857, 0.57142857, 0.6031746 ,\n",
    "       0.6031746 , 0.68253968, 0.68253968, 0.74603175, 0.74603175,\n",
    "       0.77777778, 0.77777778, 0.80952381, 0.80952381, 0.84126984,\n",
    "       0.84126984, 1.        ]"
   ]
  },
  {
   "cell_type": "code",
   "execution_count": 3,
   "id": "e70f6ece",
   "metadata": {},
   "outputs": [],
   "source": [
    "tpr = [0.        , 0.01666667, 0.11666667, 0.11666667, 0.16666667,\n",
    "       0.16666667, 0.25      , 0.25      , 0.26666667, 0.26666667,\n",
    "       0.41666667, 0.41666667, 0.43333333, 0.43333333, 0.55      ,\n",
    "       0.55      , 0.56666667, 0.56666667, 0.58333333, 0.58333333,\n",
    "       0.61666667, 0.61666667, 0.7       , 0.7       , 0.73333333,\n",
    "       0.73333333, 0.75      , 0.75      , 0.76666667, 0.76666667,\n",
    "       0.8       , 0.8       , 0.83333333, 0.83333333, 0.85      ,\n",
    "       0.85      , 0.86666667, 0.86666667, 0.88333333, 0.88333333,\n",
    "       0.9       , 0.9       , 0.91666667, 0.91666667, 0.95      ,\n",
    "       0.95      , 0.96666667, 0.96666667, 0.98333333, 0.98333333,\n",
    "       1.        , 1.        ]"
   ]
  },
  {
   "cell_type": "code",
   "execution_count": 4,
   "id": "a45cddc4",
   "metadata": {},
   "outputs": [],
   "source": [
    "cf = [[47, 16], [17, 43]]"
   ]
  },
  {
   "cell_type": "code",
   "execution_count": 5,
   "id": "3cc6e333",
   "metadata": {},
   "outputs": [],
   "source": [
    "acc_s = 0.7317073170731707\n",
    "mse = 0.2682926829268293\n",
    "roc_auc_score = 0.7313492063492064"
   ]
  },
  {
   "cell_type": "code",
   "execution_count": 6,
   "id": "225c2304",
   "metadata": {},
   "outputs": [],
   "source": [
    "cr = '              precision    recall  f1-score   support\\n\\n           0       0.73      0.75      0.74        63\\n           1       0.73      0.72      0.72        60\\n\\n    accuracy                           0.73       123\\n   macro avg       0.73      0.73      0.73       123\\nweighted avg       0.73      0.73      0.73       123\\n'"
   ]
  },
  {
   "cell_type": "code",
   "execution_count": 8,
   "id": "09aaa85c",
   "metadata": {},
   "outputs": [],
   "source": [
    "def save():\n",
    "    ## Save all variables above in a txt \n",
    "    pass"
   ]
  },
  {
   "cell_type": "code",
   "execution_count": 9,
   "id": "c1aa4cb0",
   "metadata": {},
   "outputs": [],
   "source": [
    "def load():\n",
    "    ## Load all variables above from a txt \n",
    "    pass"
   ]
  },
  {
   "cell_type": "code",
   "execution_count": null,
   "id": "e72ea7ee",
   "metadata": {},
   "outputs": [],
   "source": []
  }
 ],
 "metadata": {
  "kernelspec": {
   "display_name": "Python 3 (ipykernel)",
   "language": "python",
   "name": "python3"
  },
  "language_info": {
   "codemirror_mode": {
    "name": "ipython",
    "version": 3
   },
   "file_extension": ".py",
   "mimetype": "text/x-python",
   "name": "python",
   "nbconvert_exporter": "python",
   "pygments_lexer": "ipython3",
   "version": "3.10.6"
  }
 },
 "nbformat": 4,
 "nbformat_minor": 5
}
