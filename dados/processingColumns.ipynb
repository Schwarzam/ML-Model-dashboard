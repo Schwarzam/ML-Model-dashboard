{
 "cells": [
  {
   "cell_type": "code",
   "execution_count": 1,
   "id": "18ca3a82",
   "metadata": {
    "scrolled": true
   },
   "outputs": [
    {
     "name": "stdout",
     "output_type": "stream",
     "text": [
      "Loaded  7 encoders.\n"
     ]
    }
   ],
   "source": [
    "import pandas as pd\n",
    "from sklearn.model_selection import train_test_split\n",
    "from sklearn import preprocessing\n",
    "import numpy as np\n",
    "\n",
    "from pandas.plotting import scatter_matrix\n",
    "\n",
    "from package import encoder\n",
    "\n",
    "import matplotlib.pyplot as plt\n",
    "\n",
    "from sklearn.preprocessing import StandardScaler"
   ]
  },
  {
   "cell_type": "code",
   "execution_count": 2,
   "id": "81896954",
   "metadata": {},
   "outputs": [],
   "source": [
    "description = pd.read_csv(\"data/dicionario.csv\", encoding='latin-1')\n",
    "train = pd.read_csv(\"data/dados_treino_hackaton.csv\", encoding='latin-1', index_col=False)\n",
    "test = pd.read_csv(\"data/dados_teste_x_hackaton.csv\", encoding='latin-1', index_col=False)\n",
    "\n",
    "del train['Unnamed: 0']\n",
    "del test['Unnamed: 0']"
   ]
  },
  {
   "cell_type": "code",
   "execution_count": 3,
   "id": "af42207e",
   "metadata": {},
   "outputs": [],
   "source": [
    "train = encoder.encode_DataFrame(train)\n",
    "test = encoder.encode_DataFrame(test)"
   ]
  },
  {
   "cell_type": "markdown",
   "id": "a2d03b36",
   "metadata": {},
   "source": [
    "## testing columns correlations"
   ]
  },
  {
   "cell_type": "code",
   "execution_count": 5,
   "id": "1ce34eca",
   "metadata": {
    "scrolled": false
   },
   "outputs": [
    {
     "data": {
      "text/plain": [
       "id_fechou                             1.000000\n",
       "Classificacao_da_Oportunidade         0.264357\n",
       "numero_relacionamentos_convertidos    0.220502\n",
       "Forma_de_Contratacao_Agregado         0.190301\n",
       "numero_relacionamentos                0.158940\n",
       "Data_de_criacao                       0.145784\n",
       "Gestão de Gastos                      0.135981\n",
       "Codigo_da_oportunidade                0.128357\n",
       "Desdobramento de metas                0.127610\n",
       "Produtos digitais                     0.120585\n",
       "Gestão da Segurança Viária            0.105962\n",
       "Gestão de operações projetizadas      0.094878\n",
       "Gestão da Receita                     0.088548\n",
       "Software                              0.084177\n",
       "Skill_dev                             0.062083\n",
       "Comissão sobre Parceiros              0.060302\n",
       "Gestão da Saúde                       0.043082\n",
       "Equilíbrio fiscal                     0.027894\n",
       "Gestão da Educação                    0.022237\n",
       "Total_HH                              0.022200\n",
       "Name: id_fechou, dtype: float64"
      ]
     },
     "execution_count": 5,
     "metadata": {},
     "output_type": "execute_result"
    }
   ],
   "source": [
    "correlation = train.corr()\n",
    "correlation[\"id_fechou\"].sort_values(ascending=False)[0:20]"
   ]
  },
  {
   "cell_type": "markdown",
   "id": "a9f18ad8",
   "metadata": {},
   "source": [
    "Columns that dont have any data on it should be removed"
   ]
  },
  {
   "cell_type": "code",
   "execution_count": 5,
   "id": "7e641231",
   "metadata": {
    "scrolled": true
   },
   "outputs": [
    {
     "name": "stdout",
     "output_type": "stream",
     "text": [
      "0    613\n",
      "Name: Gestão da Segurança Pública, dtype: int64\n",
      "0    613\n",
      "Name: S_amp_OP_S_amp_OE, dtype: int64\n",
      "0    613\n",
      "Name: Transformação Digital, dtype: int64\n",
      "0    613\n",
      "Name: Roadmap, dtype: int64\n"
     ]
    }
   ],
   "source": [
    "print(train['Gestão da Segurança Pública'].value_counts())\n",
    "print(train['S_amp_OP_S_amp_OE'].value_counts())\n",
    "print(train['Transformação Digital'].value_counts())\n",
    "print(train['Roadmap'].value_counts())"
   ]
  },
  {
   "cell_type": "markdown",
   "id": "503732c7",
   "metadata": {},
   "source": [
    "#### Defining columns to remove"
   ]
  },
  {
   "cell_type": "code",
   "execution_count": 6,
   "id": "17f372c8",
   "metadata": {},
   "outputs": [],
   "source": [
    "# Removendo datas ou codigos unicos de clientes. \n",
    "remove_columns = ['Data_de_criacao', 'ano', 'ID_cliente', 'Codigo_da_oportunidade', 'Gestão da Segurança Pública', \n",
    "                 'S_amp_OP_S_amp_OE', 'Transformação Digital', 'Roadmap']"
   ]
  },
  {
   "cell_type": "markdown",
   "id": "0447472d",
   "metadata": {},
   "source": [
    "#### Creating new columns that may have a impact"
   ]
  },
  {
   "cell_type": "code",
   "execution_count": 7,
   "id": "c17a325b",
   "metadata": {},
   "outputs": [],
   "source": [
    "train[\"Custo_Total_per_Valor_corrigido2\"] = train[\"Custo_Total\"]/train[\"Valor_corrigido2\"]\n",
    "train[\"numero_relacionamentos_convertidos_per_numero_relacionamentos\"] = train[\"numero_relacionamentos_convertidos\"]/train[\"numero_relacionamentos\"]\n",
    "train[\"Gestão da Receita_per_Gestão de Gastos\"] = train[\"Gestão da Receita\"] + train[\"Gestão de Gastos\"]"
   ]
  },
  {
   "cell_type": "markdown",
   "id": "06cc594d",
   "metadata": {},
   "source": [
    "## new columns correlations\n",
    "\n",
    "New columns have a bigger correlation"
   ]
  },
  {
   "cell_type": "code",
   "execution_count": 8,
   "id": "b01c63d6",
   "metadata": {},
   "outputs": [
    {
     "data": {
      "text/plain": [
       "id_fechou                                                        1.000000\n",
       "Classificacao_da_Oportunidade                                    0.264357\n",
       "numero_relacionamentos_convertidos_per_numero_relacionamentos    0.258246\n",
       "numero_relacionamentos_convertidos                               0.220502\n",
       "Forma_de_Contratacao_Agregado                                    0.190301\n",
       "Gestão da Receita_per_Gestão de Gastos                           0.165818\n",
       "numero_relacionamentos                                           0.158940\n",
       "Data_de_criacao                                                  0.145784\n",
       "Gestão de Gastos                                                 0.135981\n",
       "Codigo_da_oportunidade                                           0.128357\n",
       "Desdobramento de metas                                           0.127610\n",
       "Produtos digitais                                                0.120585\n",
       "Custo_Total_per_Valor_corrigido2                                 0.119211\n",
       "Gestão da Segurança Viária                                       0.105962\n",
       "Gestão de operações projetizadas                                 0.094878\n",
       "Gestão da Receita                                                0.088548\n",
       "Software                                                         0.084177\n",
       "Skill_dev                                                        0.062083\n",
       "Comissão sobre Parceiros                                         0.060302\n",
       "Gestão da Saúde                                                  0.043082\n",
       "Name: id_fechou, dtype: float64"
      ]
     },
     "execution_count": 8,
     "metadata": {},
     "output_type": "execute_result"
    }
   ],
   "source": [
    "correlation = train.corr()\n",
    "correlation[\"id_fechou\"].sort_values(ascending=False)[0:20]"
   ]
  },
  {
   "cell_type": "code",
   "execution_count": null,
   "id": "ce3edd94",
   "metadata": {},
   "outputs": [],
   "source": []
  },
  {
   "cell_type": "markdown",
   "id": "c298305a",
   "metadata": {},
   "source": [
    "### its very important to scale columns, ML algorithms usually do not work well with large range data"
   ]
  },
  {
   "cell_type": "code",
   "execution_count": 249,
   "id": "14b001fd",
   "metadata": {},
   "outputs": [],
   "source": [
    "scaler = StandardScaler()"
   ]
  },
  {
   "cell_type": "code",
   "execution_count": 250,
   "id": "7a6f023c",
   "metadata": {},
   "outputs": [
    {
     "name": "stdout",
     "output_type": "stream",
     "text": [
      "StandardScaler()\n"
     ]
    }
   ],
   "source": [
    "print(scaler.fit(X_train))"
   ]
  },
  {
   "cell_type": "code",
   "execution_count": 251,
   "id": "c501b1c5",
   "metadata": {
    "scrolled": true
   },
   "outputs": [
    {
     "data": {
      "text/plain": [
       "array([[-0.02226183,  0.5155858 ,  0.42184818, ..., -0.60345916,\n",
       "        -0.92295326, -0.30618622],\n",
       "       [-1.1130917 , -0.45237221,  0.28111898, ...,  0.56929319,\n",
       "        -0.92295326, -0.30618622],\n",
       "       [-1.1130917 ,  1.4835438 , -1.02382451, ...,  0.62770536,\n",
       "        -0.92295326, -0.30618622],\n",
       "       ...,\n",
       "       [-1.1130917 ,  1.4835438 , -0.16665575, ...,  1.09188611,\n",
       "        -0.92295326, -0.30618622],\n",
       "       [ 1.06856803, -1.42033022,  0.7288937 , ...,  0.34607502,\n",
       "         0.57819907, -0.30618622],\n",
       "       [-1.1130917 ,  0.9995648 , -1.19014084, ..., -1.00780678,\n",
       "        -0.92295326, -0.30618622]])"
      ]
     },
     "execution_count": 251,
     "metadata": {},
     "output_type": "execute_result"
    }
   ],
   "source": [
    "scaler.transform(X_train)"
   ]
  },
  {
   "cell_type": "code",
   "execution_count": 9,
   "id": "be4d1e94",
   "metadata": {},
   "outputs": [],
   "source": [
    "train = train.drop(remove_columns, axis=1)"
   ]
  },
  {
   "cell_type": "code",
   "execution_count": 10,
   "id": "bec492f2",
   "metadata": {},
   "outputs": [],
   "source": [
    "train_labels, target_label = generate_labels(train)\n",
    "\n",
    "X_train, X_test, y_train, y_test = train_test_split(train[train_labels], train[target_label], test_size=0.2, random_state=42)"
   ]
  },
  {
   "cell_type": "code",
   "execution_count": 20,
   "id": "c7262e7e",
   "metadata": {},
   "outputs": [],
   "source": [
    "from package.models import run_XGB, run_analysis"
   ]
  },
  {
   "cell_type": "code",
   "execution_count": 13,
   "id": "b5aa119f",
   "metadata": {
    "scrolled": true
   },
   "outputs": [
    {
     "data": {
      "text/plain": [
       "(XGBClassifier(base_score=0.5, booster='gbtree', callbacks=None,\n",
       "               colsample_bylevel=1, colsample_bynode=1, colsample_bytree=1,\n",
       "               early_stopping_rounds=None, enable_categorical=False, eta=1.3,\n",
       "               eval_metric=None, gamma=2.7, gpu_id=-1, grow_policy='depthwise',\n",
       "               importance_type=None, interaction_constraints='',\n",
       "               learning_rate=1.29999995, max_bin=256, max_cat_to_onehot=4,\n",
       "               max_delta_step=0, max_depth=3, max_leaves=0, min_child_weight=1,\n",
       "               missing=nan, monotone_constraints='()', n_estimators=100,\n",
       "               n_jobs=0, num_parallel_tree=1, predictor='auto', random_state=0,\n",
       "               reg_alpha=0.1, ...),\n",
       " 0.6910569105691057)"
      ]
     },
     "execution_count": 13,
     "metadata": {},
     "output_type": "execute_result"
    }
   ],
   "source": [
    "run_XGB(X_train, X_test, y_train, y_test, 3, 2.7, 1.3, 0.1, 0.3)"
   ]
  },
  {
   "cell_type": "code",
   "execution_count": null,
   "id": "38f1c23e",
   "metadata": {},
   "outputs": [],
   "source": []
  },
  {
   "cell_type": "code",
   "execution_count": 253,
   "id": "d95af072",
   "metadata": {
    "collapsed": true
   },
   "outputs": [
    {
     "name": "stdout",
     "output_type": "stream",
     "text": [
      "HIGHER  0.7317073170731707\n",
      "1 0.1 0.1 0.1 0.1\n",
      "\n",
      "HIGHER  0.7723577235772358\n",
      "1 0.1 0.30000000000000004 0.1 0.1\n",
      "\n",
      "HIGHER  0.7804878048780488\n",
      "1 0.1 0.30000000000000004 1.1000000000000003 1.3000000000000003\n",
      "\n",
      "HIGHER  0.7886178861788617\n",
      "1 0.7000000000000001 0.30000000000000004 0.9000000000000001 1.3000000000000003\n",
      "\n",
      "HIGHER  0.8048780487804879\n",
      "1 1.1000000000000003 1.7000000000000004 1.1000000000000003 0.5000000000000001\n",
      "\n"
     ]
    },
    {
     "ename": "KeyboardInterrupt",
     "evalue": "",
     "output_type": "error",
     "traceback": [
      "\u001b[0;31m---------------------------------------------------------------------------\u001b[0m",
      "\u001b[0;31mKeyboardInterrupt\u001b[0m                         Traceback (most recent call last)",
      "Cell \u001b[0;32mIn [253], line 7\u001b[0m\n\u001b[1;32m      5\u001b[0m \u001b[38;5;28;01mfor\u001b[39;00m ra \u001b[38;5;129;01min\u001b[39;00m np\u001b[38;5;241m.\u001b[39marange(\u001b[38;5;241m0.1\u001b[39m, \u001b[38;5;241m1.5\u001b[39m, \u001b[38;5;241m0.2\u001b[39m):\n\u001b[1;32m      6\u001b[0m     \u001b[38;5;28;01mfor\u001b[39;00m rl \u001b[38;5;129;01min\u001b[39;00m np\u001b[38;5;241m.\u001b[39marange(\u001b[38;5;241m0.1\u001b[39m, \u001b[38;5;241m1.5\u001b[39m, \u001b[38;5;241m0.2\u001b[39m):\n\u001b[0;32m----> 7\u001b[0m         _, r \u001b[38;5;241m=\u001b[39m run_XGB(scaler\u001b[38;5;241m.\u001b[39mtransform(X_train), scaler\u001b[38;5;241m.\u001b[39mtransform(X_test), y_train, y_test, md, gam, eta, ra, rl)\n\u001b[1;32m      8\u001b[0m         \u001b[38;5;28;01mif\u001b[39;00m r \u001b[38;5;241m>\u001b[39m lm:\n\u001b[1;32m      9\u001b[0m             lm \u001b[38;5;241m=\u001b[39m r\n",
      "File \u001b[0;32m~/teros-hackaton/dados/package/models.py:24\u001b[0m, in \u001b[0;36mrun_XGB\u001b[0;34m(X_train, X_test, y_train, y_test, max_depth, gamma, eta, reg_alpha, reg_lambda, prints)\u001b[0m\n\u001b[1;32m     14\u001b[0m     \u001b[38;5;28mprint\u001b[39m(\u001b[38;5;124m\"\u001b[39m\u001b[38;5;124mRunning XGB model.\u001b[39m\u001b[38;5;124m\"\u001b[39m)\n\u001b[1;32m     16\u001b[0m model \u001b[38;5;241m=\u001b[39m XGBClassifier(\n\u001b[1;32m     17\u001b[0m     max_depth\u001b[38;5;241m=\u001b[39mmax_depth,\n\u001b[1;32m     18\u001b[0m     gamma\u001b[38;5;241m=\u001b[39mgamma,\n\u001b[0;32m   (...)\u001b[0m\n\u001b[1;32m     21\u001b[0m     reg_lambda\u001b[38;5;241m=\u001b[39mreg_lambda\n\u001b[1;32m     22\u001b[0m )\n\u001b[0;32m---> 24\u001b[0m \u001b[43mmodel\u001b[49m\u001b[38;5;241;43m.\u001b[39;49m\u001b[43mfit\u001b[49m\u001b[43m(\u001b[49m\u001b[43mX_train\u001b[49m\u001b[43m,\u001b[49m\u001b[43m \u001b[49m\u001b[43my_train\u001b[49m\u001b[43m)\u001b[49m\n\u001b[1;32m     26\u001b[0m pred \u001b[38;5;241m=\u001b[39m model\u001b[38;5;241m.\u001b[39mpredict(X_test)\n\u001b[1;32m     27\u001b[0m acc \u001b[38;5;241m=\u001b[39m accuracy_score(pred, y_test)\n",
      "File \u001b[0;32m~/.local/lib/python3.10/site-packages/xgboost/core.py:575\u001b[0m, in \u001b[0;36m_deprecate_positional_args.<locals>.inner_f\u001b[0;34m(*args, **kwargs)\u001b[0m\n\u001b[1;32m    573\u001b[0m \u001b[38;5;28;01mfor\u001b[39;00m k, arg \u001b[38;5;129;01min\u001b[39;00m \u001b[38;5;28mzip\u001b[39m(sig\u001b[38;5;241m.\u001b[39mparameters, args):\n\u001b[1;32m    574\u001b[0m     kwargs[k] \u001b[38;5;241m=\u001b[39m arg\n\u001b[0;32m--> 575\u001b[0m \u001b[38;5;28;01mreturn\u001b[39;00m \u001b[43mf\u001b[49m\u001b[43m(\u001b[49m\u001b[38;5;241;43m*\u001b[39;49m\u001b[38;5;241;43m*\u001b[39;49m\u001b[43mkwargs\u001b[49m\u001b[43m)\u001b[49m\n",
      "File \u001b[0;32m~/.local/lib/python3.10/site-packages/xgboost/sklearn.py:1400\u001b[0m, in \u001b[0;36mXGBClassifier.fit\u001b[0;34m(self, X, y, sample_weight, base_margin, eval_set, eval_metric, early_stopping_rounds, verbose, xgb_model, sample_weight_eval_set, base_margin_eval_set, feature_weights, callbacks)\u001b[0m\n\u001b[1;32m   1379\u001b[0m model, metric, params, early_stopping_rounds, callbacks \u001b[38;5;241m=\u001b[39m \u001b[38;5;28mself\u001b[39m\u001b[38;5;241m.\u001b[39m_configure_fit(\n\u001b[1;32m   1380\u001b[0m     xgb_model, eval_metric, params, early_stopping_rounds, callbacks\n\u001b[1;32m   1381\u001b[0m )\n\u001b[1;32m   1382\u001b[0m train_dmatrix, evals \u001b[38;5;241m=\u001b[39m _wrap_evaluation_matrices(\n\u001b[1;32m   1383\u001b[0m     missing\u001b[38;5;241m=\u001b[39m\u001b[38;5;28mself\u001b[39m\u001b[38;5;241m.\u001b[39mmissing,\n\u001b[1;32m   1384\u001b[0m     X\u001b[38;5;241m=\u001b[39mX,\n\u001b[0;32m   (...)\u001b[0m\n\u001b[1;32m   1397\u001b[0m     enable_categorical\u001b[38;5;241m=\u001b[39m\u001b[38;5;28mself\u001b[39m\u001b[38;5;241m.\u001b[39menable_categorical,\n\u001b[1;32m   1398\u001b[0m )\n\u001b[0;32m-> 1400\u001b[0m \u001b[38;5;28mself\u001b[39m\u001b[38;5;241m.\u001b[39m_Booster \u001b[38;5;241m=\u001b[39m \u001b[43mtrain\u001b[49m\u001b[43m(\u001b[49m\n\u001b[1;32m   1401\u001b[0m \u001b[43m    \u001b[49m\u001b[43mparams\u001b[49m\u001b[43m,\u001b[49m\n\u001b[1;32m   1402\u001b[0m \u001b[43m    \u001b[49m\u001b[43mtrain_dmatrix\u001b[49m\u001b[43m,\u001b[49m\n\u001b[1;32m   1403\u001b[0m \u001b[43m    \u001b[49m\u001b[38;5;28;43mself\u001b[39;49m\u001b[38;5;241;43m.\u001b[39;49m\u001b[43mget_num_boosting_rounds\u001b[49m\u001b[43m(\u001b[49m\u001b[43m)\u001b[49m\u001b[43m,\u001b[49m\n\u001b[1;32m   1404\u001b[0m \u001b[43m    \u001b[49m\u001b[43mevals\u001b[49m\u001b[38;5;241;43m=\u001b[39;49m\u001b[43mevals\u001b[49m\u001b[43m,\u001b[49m\n\u001b[1;32m   1405\u001b[0m \u001b[43m    \u001b[49m\u001b[43mearly_stopping_rounds\u001b[49m\u001b[38;5;241;43m=\u001b[39;49m\u001b[43mearly_stopping_rounds\u001b[49m\u001b[43m,\u001b[49m\n\u001b[1;32m   1406\u001b[0m \u001b[43m    \u001b[49m\u001b[43mevals_result\u001b[49m\u001b[38;5;241;43m=\u001b[39;49m\u001b[43mevals_result\u001b[49m\u001b[43m,\u001b[49m\n\u001b[1;32m   1407\u001b[0m \u001b[43m    \u001b[49m\u001b[43mobj\u001b[49m\u001b[38;5;241;43m=\u001b[39;49m\u001b[43mobj\u001b[49m\u001b[43m,\u001b[49m\n\u001b[1;32m   1408\u001b[0m \u001b[43m    \u001b[49m\u001b[43mcustom_metric\u001b[49m\u001b[38;5;241;43m=\u001b[39;49m\u001b[43mmetric\u001b[49m\u001b[43m,\u001b[49m\n\u001b[1;32m   1409\u001b[0m \u001b[43m    \u001b[49m\u001b[43mverbose_eval\u001b[49m\u001b[38;5;241;43m=\u001b[39;49m\u001b[43mverbose\u001b[49m\u001b[43m,\u001b[49m\n\u001b[1;32m   1410\u001b[0m \u001b[43m    \u001b[49m\u001b[43mxgb_model\u001b[49m\u001b[38;5;241;43m=\u001b[39;49m\u001b[43mmodel\u001b[49m\u001b[43m,\u001b[49m\n\u001b[1;32m   1411\u001b[0m \u001b[43m    \u001b[49m\u001b[43mcallbacks\u001b[49m\u001b[38;5;241;43m=\u001b[39;49m\u001b[43mcallbacks\u001b[49m\u001b[43m,\u001b[49m\n\u001b[1;32m   1412\u001b[0m \u001b[43m\u001b[49m\u001b[43m)\u001b[49m\n\u001b[1;32m   1414\u001b[0m \u001b[38;5;28;01mif\u001b[39;00m \u001b[38;5;129;01mnot\u001b[39;00m callable(\u001b[38;5;28mself\u001b[39m\u001b[38;5;241m.\u001b[39mobjective):\n\u001b[1;32m   1415\u001b[0m     \u001b[38;5;28mself\u001b[39m\u001b[38;5;241m.\u001b[39mobjective \u001b[38;5;241m=\u001b[39m params[\u001b[38;5;124m\"\u001b[39m\u001b[38;5;124mobjective\u001b[39m\u001b[38;5;124m\"\u001b[39m]\n",
      "File \u001b[0;32m~/.local/lib/python3.10/site-packages/xgboost/core.py:575\u001b[0m, in \u001b[0;36m_deprecate_positional_args.<locals>.inner_f\u001b[0;34m(*args, **kwargs)\u001b[0m\n\u001b[1;32m    573\u001b[0m \u001b[38;5;28;01mfor\u001b[39;00m k, arg \u001b[38;5;129;01min\u001b[39;00m \u001b[38;5;28mzip\u001b[39m(sig\u001b[38;5;241m.\u001b[39mparameters, args):\n\u001b[1;32m    574\u001b[0m     kwargs[k] \u001b[38;5;241m=\u001b[39m arg\n\u001b[0;32m--> 575\u001b[0m \u001b[38;5;28;01mreturn\u001b[39;00m \u001b[43mf\u001b[49m\u001b[43m(\u001b[49m\u001b[38;5;241;43m*\u001b[39;49m\u001b[38;5;241;43m*\u001b[39;49m\u001b[43mkwargs\u001b[49m\u001b[43m)\u001b[49m\n",
      "File \u001b[0;32m~/.local/lib/python3.10/site-packages/xgboost/training.py:181\u001b[0m, in \u001b[0;36mtrain\u001b[0;34m(params, dtrain, num_boost_round, evals, obj, feval, maximize, early_stopping_rounds, evals_result, verbose_eval, xgb_model, callbacks, custom_metric)\u001b[0m\n\u001b[1;32m    179\u001b[0m \u001b[38;5;28;01mif\u001b[39;00m cb_container\u001b[38;5;241m.\u001b[39mbefore_iteration(bst, i, dtrain, evals):\n\u001b[1;32m    180\u001b[0m     \u001b[38;5;28;01mbreak\u001b[39;00m\n\u001b[0;32m--> 181\u001b[0m \u001b[43mbst\u001b[49m\u001b[38;5;241;43m.\u001b[39;49m\u001b[43mupdate\u001b[49m\u001b[43m(\u001b[49m\u001b[43mdtrain\u001b[49m\u001b[43m,\u001b[49m\u001b[43m \u001b[49m\u001b[43mi\u001b[49m\u001b[43m,\u001b[49m\u001b[43m \u001b[49m\u001b[43mobj\u001b[49m\u001b[43m)\u001b[49m\n\u001b[1;32m    182\u001b[0m \u001b[38;5;28;01mif\u001b[39;00m cb_container\u001b[38;5;241m.\u001b[39mafter_iteration(bst, i, dtrain, evals):\n\u001b[1;32m    183\u001b[0m     \u001b[38;5;28;01mbreak\u001b[39;00m\n",
      "File \u001b[0;32m~/.local/lib/python3.10/site-packages/xgboost/core.py:1778\u001b[0m, in \u001b[0;36mBooster.update\u001b[0;34m(self, dtrain, iteration, fobj)\u001b[0m\n\u001b[1;32m   1775\u001b[0m \u001b[38;5;28mself\u001b[39m\u001b[38;5;241m.\u001b[39m_validate_features(dtrain)\n\u001b[1;32m   1777\u001b[0m \u001b[38;5;28;01mif\u001b[39;00m fobj \u001b[38;5;129;01mis\u001b[39;00m \u001b[38;5;28;01mNone\u001b[39;00m:\n\u001b[0;32m-> 1778\u001b[0m     _check_call(\u001b[43m_LIB\u001b[49m\u001b[38;5;241;43m.\u001b[39;49m\u001b[43mXGBoosterUpdateOneIter\u001b[49m\u001b[43m(\u001b[49m\u001b[38;5;28;43mself\u001b[39;49m\u001b[38;5;241;43m.\u001b[39;49m\u001b[43mhandle\u001b[49m\u001b[43m,\u001b[49m\n\u001b[1;32m   1779\u001b[0m \u001b[43m                                            \u001b[49m\u001b[43mctypes\u001b[49m\u001b[38;5;241;43m.\u001b[39;49m\u001b[43mc_int\u001b[49m\u001b[43m(\u001b[49m\u001b[43miteration\u001b[49m\u001b[43m)\u001b[49m\u001b[43m,\u001b[49m\n\u001b[1;32m   1780\u001b[0m \u001b[43m                                            \u001b[49m\u001b[43mdtrain\u001b[49m\u001b[38;5;241;43m.\u001b[39;49m\u001b[43mhandle\u001b[49m\u001b[43m)\u001b[49m)\n\u001b[1;32m   1781\u001b[0m \u001b[38;5;28;01melse\u001b[39;00m:\n\u001b[1;32m   1782\u001b[0m     pred \u001b[38;5;241m=\u001b[39m \u001b[38;5;28mself\u001b[39m\u001b[38;5;241m.\u001b[39mpredict(dtrain, output_margin\u001b[38;5;241m=\u001b[39m\u001b[38;5;28;01mTrue\u001b[39;00m, training\u001b[38;5;241m=\u001b[39m\u001b[38;5;28;01mTrue\u001b[39;00m)\n",
      "\u001b[0;31mKeyboardInterrupt\u001b[0m: "
     ]
    }
   ],
   "source": [
    "lm = 0\n",
    "for md in np.arange(1, 5):\n",
    "    for gam in np.arange(0.1, 3, 0.2):\n",
    "        for eta in np.arange(0.1, 2, 0.2):\n",
    "            for ra in np.arange(0.1, 1.5, 0.2):\n",
    "                for rl in np.arange(0.1, 1.5, 0.2):\n",
    "                    _, r = run_XGB(scaler.transform(X_train), scaler.transform(X_test), y_train, y_test, md, gam, eta, ra, rl)\n",
    "                    if r > lm:\n",
    "                        lm = r\n",
    "                        print(\"HIGHER \", lm)\n",
    "                        print(md, gam, eta, ra, rl)\n",
    "                        print(\"\")"
   ]
  },
  {
   "cell_type": "code",
   "execution_count": 12,
   "id": "9b0674de",
   "metadata": {},
   "outputs": [],
   "source": [
    "from sklearn.metrics import accuracy_score, classification_report"
   ]
  },
  {
   "cell_type": "code",
   "execution_count": 107,
   "id": "4f917527",
   "metadata": {},
   "outputs": [
    {
     "name": "stdout",
     "output_type": "stream",
     "text": [
      "              precision    recall  f1-score   support\n",
      "\n",
      "           0       0.84      0.78      0.81        68\n",
      "           1       0.75      0.82      0.78        55\n",
      "\n",
      "    accuracy                           0.80       123\n",
      "   macro avg       0.80      0.80      0.80       123\n",
      "weighted avg       0.80      0.80      0.80       123\n",
      "\n"
     ]
    },
    {
     "data": {
      "text/plain": [
       "0.7967479674796748"
      ]
     },
     "execution_count": 107,
     "metadata": {},
     "output_type": "execute_result"
    }
   ],
   "source": [
    "run_XGB(2, 0.3, 0.5, 0.5, 0.7)"
   ]
  },
  {
   "cell_type": "code",
   "execution_count": 254,
   "id": "31d7f583",
   "metadata": {},
   "outputs": [
    {
     "name": "stdout",
     "output_type": "stream",
     "text": [
      "Running XGB model.\n",
      "              precision    recall  f1-score   support\n",
      "\n",
      "           0       0.83      0.83      0.83        63\n",
      "           1       0.82      0.82      0.82        60\n",
      "\n",
      "    accuracy                           0.82       123\n",
      "   macro avg       0.82      0.82      0.82       123\n",
      "weighted avg       0.82      0.82      0.82       123\n",
      "\n",
      "accuracy_score:  0.8211382113821138\n",
      "\n",
      "\n",
      "\n"
     ]
    },
    {
     "data": {
      "text/plain": [
       "(XGBClassifier(base_score=0.5, booster='gbtree', callbacks=None,\n",
       "               colsample_bylevel=1, colsample_bynode=1, colsample_bytree=1,\n",
       "               early_stopping_rounds=None, enable_categorical=False, eta=1.5,\n",
       "               eval_metric=None, gamma=0.1, gpu_id=-1, grow_policy='depthwise',\n",
       "               importance_type=None, interaction_constraints='',\n",
       "               learning_rate=1.5, max_bin=256, max_cat_to_onehot=4,\n",
       "               max_delta_step=0, max_depth=2, max_leaves=0, min_child_weight=1,\n",
       "               missing=nan, monotone_constraints='()', n_estimators=100,\n",
       "               n_jobs=0, num_parallel_tree=1, predictor='auto', random_state=0,\n",
       "               reg_alpha=1.1, ...),\n",
       " 0.8211382113821138)"
      ]
     },
     "execution_count": 254,
     "metadata": {},
     "output_type": "execute_result"
    }
   ],
   "source": [
    "run_XGB(scaler.transform(X_train), scaler.transform(X_test), y_train, y_test, 2, 0.1, 1.5, 1.1, 0.7, prints=True)"
   ]
  },
  {
   "cell_type": "code",
   "execution_count": 688,
   "id": "860ba23a",
   "metadata": {},
   "outputs": [],
   "source": [
    "from pickle import dump"
   ]
  },
  {
   "cell_type": "code",
   "execution_count": null,
   "id": "7f1efdbb",
   "metadata": {},
   "outputs": [],
   "source": []
  },
  {
   "cell_type": "code",
   "execution_count": 16,
   "id": "493f70b2",
   "metadata": {},
   "outputs": [],
   "source": [
    "# Stochastic Gradient Descent"
   ]
  },
  {
   "cell_type": "code",
   "execution_count": 13,
   "id": "2bccf069",
   "metadata": {},
   "outputs": [],
   "source": [
    "from sklearn.linear_model import SGDClassifier, SGDRegressor"
   ]
  },
  {
   "cell_type": "code",
   "execution_count": 14,
   "id": "a19ed941",
   "metadata": {
    "scrolled": true
   },
   "outputs": [
    {
     "data": {
      "text/html": [
       "<style>#sk-container-id-1 {color: black;background-color: white;}#sk-container-id-1 pre{padding: 0;}#sk-container-id-1 div.sk-toggleable {background-color: white;}#sk-container-id-1 label.sk-toggleable__label {cursor: pointer;display: block;width: 100%;margin-bottom: 0;padding: 0.3em;box-sizing: border-box;text-align: center;}#sk-container-id-1 label.sk-toggleable__label-arrow:before {content: \"▸\";float: left;margin-right: 0.25em;color: #696969;}#sk-container-id-1 label.sk-toggleable__label-arrow:hover:before {color: black;}#sk-container-id-1 div.sk-estimator:hover label.sk-toggleable__label-arrow:before {color: black;}#sk-container-id-1 div.sk-toggleable__content {max-height: 0;max-width: 0;overflow: hidden;text-align: left;background-color: #f0f8ff;}#sk-container-id-1 div.sk-toggleable__content pre {margin: 0.2em;color: black;border-radius: 0.25em;background-color: #f0f8ff;}#sk-container-id-1 input.sk-toggleable__control:checked~div.sk-toggleable__content {max-height: 200px;max-width: 100%;overflow: auto;}#sk-container-id-1 input.sk-toggleable__control:checked~label.sk-toggleable__label-arrow:before {content: \"▾\";}#sk-container-id-1 div.sk-estimator input.sk-toggleable__control:checked~label.sk-toggleable__label {background-color: #d4ebff;}#sk-container-id-1 div.sk-label input.sk-toggleable__control:checked~label.sk-toggleable__label {background-color: #d4ebff;}#sk-container-id-1 input.sk-hidden--visually {border: 0;clip: rect(1px 1px 1px 1px);clip: rect(1px, 1px, 1px, 1px);height: 1px;margin: -1px;overflow: hidden;padding: 0;position: absolute;width: 1px;}#sk-container-id-1 div.sk-estimator {font-family: monospace;background-color: #f0f8ff;border: 1px dotted black;border-radius: 0.25em;box-sizing: border-box;margin-bottom: 0.5em;}#sk-container-id-1 div.sk-estimator:hover {background-color: #d4ebff;}#sk-container-id-1 div.sk-parallel-item::after {content: \"\";width: 100%;border-bottom: 1px solid gray;flex-grow: 1;}#sk-container-id-1 div.sk-label:hover label.sk-toggleable__label {background-color: #d4ebff;}#sk-container-id-1 div.sk-serial::before {content: \"\";position: absolute;border-left: 1px solid gray;box-sizing: border-box;top: 0;bottom: 0;left: 50%;z-index: 0;}#sk-container-id-1 div.sk-serial {display: flex;flex-direction: column;align-items: center;background-color: white;padding-right: 0.2em;padding-left: 0.2em;position: relative;}#sk-container-id-1 div.sk-item {position: relative;z-index: 1;}#sk-container-id-1 div.sk-parallel {display: flex;align-items: stretch;justify-content: center;background-color: white;position: relative;}#sk-container-id-1 div.sk-item::before, #sk-container-id-1 div.sk-parallel-item::before {content: \"\";position: absolute;border-left: 1px solid gray;box-sizing: border-box;top: 0;bottom: 0;left: 50%;z-index: -1;}#sk-container-id-1 div.sk-parallel-item {display: flex;flex-direction: column;z-index: 1;position: relative;background-color: white;}#sk-container-id-1 div.sk-parallel-item:first-child::after {align-self: flex-end;width: 50%;}#sk-container-id-1 div.sk-parallel-item:last-child::after {align-self: flex-start;width: 50%;}#sk-container-id-1 div.sk-parallel-item:only-child::after {width: 0;}#sk-container-id-1 div.sk-dashed-wrapped {border: 1px dashed gray;margin: 0 0.4em 0.5em 0.4em;box-sizing: border-box;padding-bottom: 0.4em;background-color: white;}#sk-container-id-1 div.sk-label label {font-family: monospace;font-weight: bold;display: inline-block;line-height: 1.2em;}#sk-container-id-1 div.sk-label-container {text-align: center;}#sk-container-id-1 div.sk-container {/* jupyter's `normalize.less` sets `[hidden] { display: none; }` but bootstrap.min.css set `[hidden] { display: none !important; }` so we also need the `!important` here to be able to override the default hidden behavior on the sphinx rendered scikit-learn.org. See: https://github.com/scikit-learn/scikit-learn/issues/21755 */display: inline-block !important;position: relative;}#sk-container-id-1 div.sk-text-repr-fallback {display: none;}</style><div id=\"sk-container-id-1\" class=\"sk-top-container\"><div class=\"sk-text-repr-fallback\"><pre>SGDRegressor(loss=&#x27;epsilon_insensitive&#x27;, max_iter=500)</pre><b>In a Jupyter environment, please rerun this cell to show the HTML representation or trust the notebook. <br />On GitHub, the HTML representation is unable to render, please try loading this page with nbviewer.org.</b></div><div class=\"sk-container\" hidden><div class=\"sk-item\"><div class=\"sk-estimator sk-toggleable\"><input class=\"sk-toggleable__control sk-hidden--visually\" id=\"sk-estimator-id-1\" type=\"checkbox\" checked><label for=\"sk-estimator-id-1\" class=\"sk-toggleable__label sk-toggleable__label-arrow\">SGDRegressor</label><div class=\"sk-toggleable__content\"><pre>SGDRegressor(loss=&#x27;epsilon_insensitive&#x27;, max_iter=500)</pre></div></div></div></div></div>"
      ],
      "text/plain": [
       "SGDRegressor(loss='epsilon_insensitive', max_iter=500)"
      ]
     },
     "execution_count": 14,
     "metadata": {},
     "output_type": "execute_result"
    }
   ],
   "source": [
    "clf = SGDRegressor(loss=\"epsilon_insensitive\", penalty=\"l2\", max_iter=500)\n",
    "clf.fit(X_train, y_train)"
   ]
  },
  {
   "cell_type": "code",
   "execution_count": 15,
   "id": "00e6a324",
   "metadata": {},
   "outputs": [],
   "source": [
    "from lightgbm import LGBMClassifier"
   ]
  },
  {
   "cell_type": "code",
   "execution_count": 68,
   "id": "eec463e6",
   "metadata": {},
   "outputs": [],
   "source": [
    "mo = LGBMClassifier(learning_rate=0.1)"
   ]
  },
  {
   "cell_type": "code",
   "execution_count": 69,
   "id": "e47d2976",
   "metadata": {},
   "outputs": [
    {
     "data": {
      "text/html": [
       "<style>#sk-container-id-18 {color: black;background-color: white;}#sk-container-id-18 pre{padding: 0;}#sk-container-id-18 div.sk-toggleable {background-color: white;}#sk-container-id-18 label.sk-toggleable__label {cursor: pointer;display: block;width: 100%;margin-bottom: 0;padding: 0.3em;box-sizing: border-box;text-align: center;}#sk-container-id-18 label.sk-toggleable__label-arrow:before {content: \"▸\";float: left;margin-right: 0.25em;color: #696969;}#sk-container-id-18 label.sk-toggleable__label-arrow:hover:before {color: black;}#sk-container-id-18 div.sk-estimator:hover label.sk-toggleable__label-arrow:before {color: black;}#sk-container-id-18 div.sk-toggleable__content {max-height: 0;max-width: 0;overflow: hidden;text-align: left;background-color: #f0f8ff;}#sk-container-id-18 div.sk-toggleable__content pre {margin: 0.2em;color: black;border-radius: 0.25em;background-color: #f0f8ff;}#sk-container-id-18 input.sk-toggleable__control:checked~div.sk-toggleable__content {max-height: 200px;max-width: 100%;overflow: auto;}#sk-container-id-18 input.sk-toggleable__control:checked~label.sk-toggleable__label-arrow:before {content: \"▾\";}#sk-container-id-18 div.sk-estimator input.sk-toggleable__control:checked~label.sk-toggleable__label {background-color: #d4ebff;}#sk-container-id-18 div.sk-label input.sk-toggleable__control:checked~label.sk-toggleable__label {background-color: #d4ebff;}#sk-container-id-18 input.sk-hidden--visually {border: 0;clip: rect(1px 1px 1px 1px);clip: rect(1px, 1px, 1px, 1px);height: 1px;margin: -1px;overflow: hidden;padding: 0;position: absolute;width: 1px;}#sk-container-id-18 div.sk-estimator {font-family: monospace;background-color: #f0f8ff;border: 1px dotted black;border-radius: 0.25em;box-sizing: border-box;margin-bottom: 0.5em;}#sk-container-id-18 div.sk-estimator:hover {background-color: #d4ebff;}#sk-container-id-18 div.sk-parallel-item::after {content: \"\";width: 100%;border-bottom: 1px solid gray;flex-grow: 1;}#sk-container-id-18 div.sk-label:hover label.sk-toggleable__label {background-color: #d4ebff;}#sk-container-id-18 div.sk-serial::before {content: \"\";position: absolute;border-left: 1px solid gray;box-sizing: border-box;top: 0;bottom: 0;left: 50%;z-index: 0;}#sk-container-id-18 div.sk-serial {display: flex;flex-direction: column;align-items: center;background-color: white;padding-right: 0.2em;padding-left: 0.2em;position: relative;}#sk-container-id-18 div.sk-item {position: relative;z-index: 1;}#sk-container-id-18 div.sk-parallel {display: flex;align-items: stretch;justify-content: center;background-color: white;position: relative;}#sk-container-id-18 div.sk-item::before, #sk-container-id-18 div.sk-parallel-item::before {content: \"\";position: absolute;border-left: 1px solid gray;box-sizing: border-box;top: 0;bottom: 0;left: 50%;z-index: -1;}#sk-container-id-18 div.sk-parallel-item {display: flex;flex-direction: column;z-index: 1;position: relative;background-color: white;}#sk-container-id-18 div.sk-parallel-item:first-child::after {align-self: flex-end;width: 50%;}#sk-container-id-18 div.sk-parallel-item:last-child::after {align-self: flex-start;width: 50%;}#sk-container-id-18 div.sk-parallel-item:only-child::after {width: 0;}#sk-container-id-18 div.sk-dashed-wrapped {border: 1px dashed gray;margin: 0 0.4em 0.5em 0.4em;box-sizing: border-box;padding-bottom: 0.4em;background-color: white;}#sk-container-id-18 div.sk-label label {font-family: monospace;font-weight: bold;display: inline-block;line-height: 1.2em;}#sk-container-id-18 div.sk-label-container {text-align: center;}#sk-container-id-18 div.sk-container {/* jupyter's `normalize.less` sets `[hidden] { display: none; }` but bootstrap.min.css set `[hidden] { display: none !important; }` so we also need the `!important` here to be able to override the default hidden behavior on the sphinx rendered scikit-learn.org. See: https://github.com/scikit-learn/scikit-learn/issues/21755 */display: inline-block !important;position: relative;}#sk-container-id-18 div.sk-text-repr-fallback {display: none;}</style><div id=\"sk-container-id-18\" class=\"sk-top-container\"><div class=\"sk-text-repr-fallback\"><pre>LGBMClassifier(n_estimators=200)</pre><b>In a Jupyter environment, please rerun this cell to show the HTML representation or trust the notebook. <br />On GitHub, the HTML representation is unable to render, please try loading this page with nbviewer.org.</b></div><div class=\"sk-container\" hidden><div class=\"sk-item\"><div class=\"sk-estimator sk-toggleable\"><input class=\"sk-toggleable__control sk-hidden--visually\" id=\"sk-estimator-id-18\" type=\"checkbox\" checked><label for=\"sk-estimator-id-18\" class=\"sk-toggleable__label sk-toggleable__label-arrow\">LGBMClassifier</label><div class=\"sk-toggleable__content\"><pre>LGBMClassifier(n_estimators=200)</pre></div></div></div></div></div>"
      ],
      "text/plain": [
       "LGBMClassifier(n_estimators=200)"
      ]
     },
     "execution_count": 69,
     "metadata": {},
     "output_type": "execute_result"
    }
   ],
   "source": [
    "mo.fit(X_train, y_train)"
   ]
  },
  {
   "cell_type": "code",
   "execution_count": 70,
   "id": "ce91f20c",
   "metadata": {},
   "outputs": [
    {
     "name": "stdout",
     "output_type": "stream",
     "text": [
      "              precision    recall  f1-score   support\n",
      "\n",
      "           0       0.75      0.71      0.73        66\n",
      "           1       0.68      0.72      0.70        57\n",
      "\n",
      "    accuracy                           0.72       123\n",
      "   macro avg       0.71      0.72      0.71       123\n",
      "weighted avg       0.72      0.72      0.72       123\n",
      "\n",
      "accuracy_score:  0.7154471544715447\n",
      "\n",
      "\n",
      "\n"
     ]
    }
   ],
   "source": [
    "run_analysis(mo.predict(X_test), y_test)"
   ]
  },
  {
   "cell_type": "code",
   "execution_count": null,
   "id": "7e4aa65f",
   "metadata": {},
   "outputs": [],
   "source": []
  },
  {
   "cell_type": "code",
   "execution_count": 677,
   "id": "cf719906",
   "metadata": {},
   "outputs": [],
   "source": [
    "import keras\n",
    "from keras.models import Sequential   # importing Sequential model\n",
    "from keras.layers import Dense, Dropout       # importing Dense layers"
   ]
  },
  {
   "cell_type": "code",
   "execution_count": 678,
   "id": "a54592d3",
   "metadata": {},
   "outputs": [],
   "source": [
    "model = Sequential()"
   ]
  },
  {
   "cell_type": "code",
   "execution_count": 679,
   "id": "4b6ec697",
   "metadata": {},
   "outputs": [],
   "source": [
    "model.add(Dense(64, activation='relu', input_shape=(38,)))\n",
    "model.add(Dense(64, activation='relu'))\n",
    "model.add(Dropout(0.2))\n",
    "model.add(Dense(32, activation='relu'))\n",
    "model.add(Dense(32, activation='relu'))\n",
    "model.add(Dropout(0.2))\n",
    "\n",
    "model.add(Dense(16, activation='relu'))\n",
    "model.add(Dense(16, activation='relu'))\n",
    "model.add(Dropout(0.2))\n",
    "model.add(Dense(1, activation = 'sigmoid'))"
   ]
  },
  {
   "cell_type": "code",
   "execution_count": 680,
   "id": "6b583182",
   "metadata": {},
   "outputs": [],
   "source": [
    "lr_schedule = keras.optimizers.schedules.learning_rate_schedule.ExponentialDecay(\n",
    "    initial_learning_rate=1e-4,\n",
    "    decay_steps=10000,\n",
    "    decay_rate=0.9)\n",
    "\n",
    "\n",
    "opt = keras.optimizers.RMSprop(learning_rate=lr_schedule)\n",
    "\n",
    "model.compile(loss='binary_crossentropy', optimizer=opt, metrics=['accuracy'])"
   ]
  },
  {
   "cell_type": "code",
   "execution_count": 683,
   "id": "fc8f7a16",
   "metadata": {},
   "outputs": [
    {
     "name": "stdout",
     "output_type": "stream",
     "text": [
      "Epoch 1/40\n",
      "16/16 [==============================] - 0s 5ms/step - loss: 0.5606 - accuracy: 0.7510 - val_loss: 0.6748 - val_accuracy: 0.6829\n",
      "Epoch 2/40\n",
      "16/16 [==============================] - 0s 4ms/step - loss: 0.5405 - accuracy: 0.7571 - val_loss: 0.6725 - val_accuracy: 0.6829\n",
      "Epoch 3/40\n",
      "16/16 [==============================] - 0s 3ms/step - loss: 0.5610 - accuracy: 0.7449 - val_loss: 0.6756 - val_accuracy: 0.6748\n",
      "Epoch 4/40\n",
      "16/16 [==============================] - 0s 4ms/step - loss: 0.5529 - accuracy: 0.7388 - val_loss: 0.6756 - val_accuracy: 0.6748\n",
      "Epoch 5/40\n",
      "16/16 [==============================] - 0s 4ms/step - loss: 0.5420 - accuracy: 0.7429 - val_loss: 0.6759 - val_accuracy: 0.6829\n",
      "Epoch 6/40\n",
      "16/16 [==============================] - 0s 4ms/step - loss: 0.5329 - accuracy: 0.7469 - val_loss: 0.6685 - val_accuracy: 0.6748\n",
      "Epoch 7/40\n",
      "16/16 [==============================] - 0s 4ms/step - loss: 0.5398 - accuracy: 0.7429 - val_loss: 0.6710 - val_accuracy: 0.6829\n",
      "Epoch 8/40\n",
      "16/16 [==============================] - 0s 4ms/step - loss: 0.5332 - accuracy: 0.7449 - val_loss: 0.6726 - val_accuracy: 0.6667\n",
      "Epoch 9/40\n",
      "16/16 [==============================] - 0s 3ms/step - loss: 0.5169 - accuracy: 0.7816 - val_loss: 0.6709 - val_accuracy: 0.6748\n",
      "Epoch 10/40\n",
      "16/16 [==============================] - 0s 4ms/step - loss: 0.5359 - accuracy: 0.7490 - val_loss: 0.6658 - val_accuracy: 0.6667\n",
      "Epoch 11/40\n",
      "16/16 [==============================] - 0s 4ms/step - loss: 0.5378 - accuracy: 0.7429 - val_loss: 0.6694 - val_accuracy: 0.6748\n",
      "Epoch 12/40\n",
      "16/16 [==============================] - 0s 4ms/step - loss: 0.5409 - accuracy: 0.7633 - val_loss: 0.6687 - val_accuracy: 0.6748\n",
      "Epoch 13/40\n",
      "16/16 [==============================] - 0s 3ms/step - loss: 0.5198 - accuracy: 0.7857 - val_loss: 0.6720 - val_accuracy: 0.6829\n",
      "Epoch 14/40\n",
      "16/16 [==============================] - 0s 3ms/step - loss: 0.5147 - accuracy: 0.7755 - val_loss: 0.6742 - val_accuracy: 0.6829\n",
      "Epoch 15/40\n",
      "16/16 [==============================] - 0s 4ms/step - loss: 0.5052 - accuracy: 0.7816 - val_loss: 0.6813 - val_accuracy: 0.6748\n",
      "Epoch 16/40\n",
      "16/16 [==============================] - 0s 4ms/step - loss: 0.5400 - accuracy: 0.7388 - val_loss: 0.6776 - val_accuracy: 0.6829\n",
      "Epoch 17/40\n",
      "16/16 [==============================] - 0s 4ms/step - loss: 0.5274 - accuracy: 0.7714 - val_loss: 0.6730 - val_accuracy: 0.6829\n",
      "Epoch 18/40\n",
      "16/16 [==============================] - 0s 5ms/step - loss: 0.5243 - accuracy: 0.7510 - val_loss: 0.6751 - val_accuracy: 0.6829\n",
      "Epoch 19/40\n",
      "16/16 [==============================] - 0s 4ms/step - loss: 0.5235 - accuracy: 0.7571 - val_loss: 0.6754 - val_accuracy: 0.6748\n",
      "Epoch 20/40\n",
      "16/16 [==============================] - 0s 4ms/step - loss: 0.5058 - accuracy: 0.7673 - val_loss: 0.6800 - val_accuracy: 0.6829\n",
      "Epoch 21/40\n",
      "16/16 [==============================] - 0s 4ms/step - loss: 0.5155 - accuracy: 0.7776 - val_loss: 0.6828 - val_accuracy: 0.6829\n",
      "Epoch 22/40\n",
      "16/16 [==============================] - 0s 4ms/step - loss: 0.4865 - accuracy: 0.7796 - val_loss: 0.6856 - val_accuracy: 0.6829\n",
      "Epoch 23/40\n",
      "16/16 [==============================] - 0s 5ms/step - loss: 0.5138 - accuracy: 0.7735 - val_loss: 0.6897 - val_accuracy: 0.6748\n",
      "Epoch 24/40\n",
      "16/16 [==============================] - 0s 5ms/step - loss: 0.5100 - accuracy: 0.7735 - val_loss: 0.6906 - val_accuracy: 0.6748\n",
      "Epoch 25/40\n",
      "16/16 [==============================] - 0s 4ms/step - loss: 0.5021 - accuracy: 0.7898 - val_loss: 0.6923 - val_accuracy: 0.6667\n",
      "Epoch 26/40\n",
      "16/16 [==============================] - 0s 4ms/step - loss: 0.5160 - accuracy: 0.7571 - val_loss: 0.6943 - val_accuracy: 0.6667\n",
      "Epoch 27/40\n",
      "16/16 [==============================] - 0s 4ms/step - loss: 0.4948 - accuracy: 0.7735 - val_loss: 0.6919 - val_accuracy: 0.6748\n",
      "Epoch 28/40\n",
      "16/16 [==============================] - 0s 3ms/step - loss: 0.4845 - accuracy: 0.8041 - val_loss: 0.7003 - val_accuracy: 0.6667\n",
      "Epoch 29/40\n",
      "16/16 [==============================] - 0s 3ms/step - loss: 0.4948 - accuracy: 0.7918 - val_loss: 0.6990 - val_accuracy: 0.6667\n",
      "Epoch 30/40\n",
      "16/16 [==============================] - 0s 4ms/step - loss: 0.5020 - accuracy: 0.7796 - val_loss: 0.6947 - val_accuracy: 0.6667\n",
      "Epoch 31/40\n",
      "16/16 [==============================] - 0s 5ms/step - loss: 0.4986 - accuracy: 0.7673 - val_loss: 0.6923 - val_accuracy: 0.6667\n",
      "Epoch 32/40\n",
      "16/16 [==============================] - 0s 4ms/step - loss: 0.5092 - accuracy: 0.7694 - val_loss: 0.6880 - val_accuracy: 0.6667\n",
      "Epoch 33/40\n",
      "16/16 [==============================] - 0s 4ms/step - loss: 0.5161 - accuracy: 0.7857 - val_loss: 0.6897 - val_accuracy: 0.6667\n",
      "Epoch 34/40\n",
      "16/16 [==============================] - 0s 4ms/step - loss: 0.4887 - accuracy: 0.7735 - val_loss: 0.6896 - val_accuracy: 0.6748\n",
      "Epoch 35/40\n",
      "16/16 [==============================] - 0s 3ms/step - loss: 0.4906 - accuracy: 0.7755 - val_loss: 0.6935 - val_accuracy: 0.6748\n",
      "Epoch 36/40\n",
      "16/16 [==============================] - 0s 3ms/step - loss: 0.4769 - accuracy: 0.7816 - val_loss: 0.6969 - val_accuracy: 0.6748\n",
      "Epoch 37/40\n",
      "16/16 [==============================] - 0s 4ms/step - loss: 0.4793 - accuracy: 0.7939 - val_loss: 0.6984 - val_accuracy: 0.6748\n",
      "Epoch 38/40\n",
      "16/16 [==============================] - 0s 4ms/step - loss: 0.4972 - accuracy: 0.7837 - val_loss: 0.6976 - val_accuracy: 0.6748\n",
      "Epoch 39/40\n",
      "16/16 [==============================] - 0s 4ms/step - loss: 0.4759 - accuracy: 0.8082 - val_loss: 0.6985 - val_accuracy: 0.6748\n",
      "Epoch 40/40\n",
      "16/16 [==============================] - 0s 3ms/step - loss: 0.4928 - accuracy: 0.7857 - val_loss: 0.6961 - val_accuracy: 0.6667\n"
     ]
    }
   ],
   "source": [
    "hist = model.fit(scaler.transform(X_train), y_train, validation_data=(scaler.transform(X_test), y_test), epochs=40, verbose=1)"
   ]
  },
  {
   "cell_type": "code",
   "execution_count": null,
   "id": "53d23c8e",
   "metadata": {},
   "outputs": [],
   "source": []
  }
 ],
 "metadata": {
  "kernelspec": {
   "display_name": "Python 3 (ipykernel)",
   "language": "python",
   "name": "python3"
  },
  "language_info": {
   "codemirror_mode": {
    "name": "ipython",
    "version": 3
   },
   "file_extension": ".py",
   "mimetype": "text/x-python",
   "name": "python",
   "nbconvert_exporter": "python",
   "pygments_lexer": "ipython3",
   "version": "3.10.6"
  }
 },
 "nbformat": 4,
 "nbformat_minor": 5
}
